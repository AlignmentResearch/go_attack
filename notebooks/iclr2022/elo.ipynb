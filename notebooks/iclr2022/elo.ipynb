{
 "cells": [
  {
   "cell_type": "markdown",
   "metadata": {},
   "source": [
    "This notebook estimates the goratings.org elo of cp505"
   ]
  },
  {
   "cell_type": "markdown",
   "metadata": {},
   "source": [
    "### Load libraries"
   ]
  },
  {
   "cell_type": "code",
   "execution_count": 19,
   "metadata": {},
   "outputs": [],
   "source": [
    "import numpy as np"
   ]
  },
  {
   "cell_type": "markdown",
   "metadata": {},
   "source": [
    "### Lets begin!"
   ]
  },
  {
   "cell_type": "code",
   "execution_count": 20,
   "metadata": {},
   "outputs": [],
   "source": [
    "gor_elo_pairs = [\n",
    "    (2949, 3504),\n",
    "    (2942, 3405),\n",
    "    (2912, 3300),\n",
    "    (2851, 3367),\n",
    "    (2882, 3406),\n",
    "    (2735, 2985),\n",
    "    (2830, 2979),\n",
    "]\n",
    "\n",
    "gor_sups = [2647, 2748, 2592]\n",
    "gor_infs = [2675, 2529, 2662]"
   ]
  },
  {
   "cell_type": "code",
   "execution_count": 21,
   "metadata": {},
   "outputs": [
    {
     "data": {
      "text/plain": [
       "2642.1666666666665"
      ]
     },
     "execution_count": 21,
     "metadata": {},
     "output_type": "execute_result"
    }
   ],
   "source": [
    "cp505_gor = np.mean(gor_sups + gor_infs)\n",
    "cp505_gor"
   ]
  },
  {
   "cell_type": "code",
   "execution_count": 22,
   "metadata": {},
   "outputs": [
    {
     "name": "stdout",
     "output_type": "stream",
     "text": [
      "2740.1354732710665\n",
      "2665.148021769607\n",
      "2658.0043788305393\n",
      "2902.565301976064\n",
      "2854.569136136857\n",
      "2800.011201061187\n",
      "2570.149549386768\n"
     ]
    }
   ],
   "source": [
    "def gor_to_elo(gor_elo_pair, gor):\n",
    "    g1, e1 = gor_elo_pair\n",
    "    g2 = gor\n",
    "\n",
    "    # ((3300 - g1) / (3300 - g2)) ** 7 = 10 ^ (elo_diff / 400)\n",
    "    elo_diff = 400 * 7 * np.log10((3300 - g1) / (3300 - g2))\n",
    "    return e1 + elo_diff\n",
    "\n",
    "for gep in gor_elo_pairs:\n",
    "    print(gor_to_elo(gep, cp505_gor))"
   ]
  },
  {
   "cell_type": "code",
   "execution_count": 23,
   "metadata": {},
   "outputs": [
    {
     "name": "stdout",
     "output_type": "stream",
     "text": [
      "2570.149549386768\n",
      "2902.565301976064\n"
     ]
    }
   ],
   "source": [
    "print(np.min([gor_to_elo(gep, cp505_gor) for gep in gor_elo_pairs]))\n",
    "print(np.max([gor_to_elo(gep, cp505_gor) for gep in gor_elo_pairs]))"
   ]
  }
 ],
 "metadata": {
  "kernelspec": {
   "display_name": "Python 3.7.13 ('go-attack')",
   "language": "python",
   "name": "python3"
  },
  "language_info": {
   "codemirror_mode": {
    "name": "ipython",
    "version": 3
   },
   "file_extension": ".py",
   "mimetype": "text/x-python",
   "name": "python",
   "nbconvert_exporter": "python",
   "pygments_lexer": "ipython3",
   "version": "3.7.13"
  },
  "orig_nbformat": 4,
  "vscode": {
   "interpreter": {
    "hash": "18ad8d816b0438bcdfb77328a8ad028de3abbf4e5e2b82a5cc55004434e63d0c"
   }
  }
 },
 "nbformat": 4,
 "nbformat_minor": 2
}
