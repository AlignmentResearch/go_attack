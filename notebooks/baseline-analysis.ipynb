{
 "cells": [
  {
   "cell_type": "code",
   "execution_count": null,
   "metadata": {},
   "outputs": [],
   "source": [
    "import sente\n",
    "from go_attack.board_utils import mirror_move\n",
    "\n",
    "move = sente.Move(0, 0, sente.stone.BLACK)\n",
    "mirrored = mirror_move(move)\n",
    "mirrored2 = mirror_move(mirrored)"
   ]
  },
  {
   "cell_type": "code",
   "execution_count": null,
   "metadata": {},
   "outputs": [],
   "source": [
    "mirrored, mirrored2"
   ]
  },
  {
   "cell_type": "code",
   "execution_count": null,
   "metadata": {},
   "outputs": [],
   "source": [
    "from pathlib import Path\n",
    "import sente\n",
    "\n",
    "def load_games(path):\n",
    "    games = [\n",
    "        sente.sgf.load(str(path))\n",
    "        for path in Path(path).glob('*.sgf')\n",
    "    ]\n",
    "\n",
    "    for game in games:\n",
    "        game.play_default_sequence()\n",
    "        if not game.is_over():\n",
    "            game.play(None)\n",
    "            assert game.is_over()\n",
    "    \n",
    "    return games\n",
    "\n",
    "def compute_win_margins(games, black = True):\n",
    "    victim = sente.stone.BLACK if black else sente.stone.WHITE\n",
    "    attacker = sente.stone.WHITE if black else sente.stone.BLACK\n",
    "    return [\n",
    "        game.score()[victim] - game.score()[attacker]\n",
    "        for game in games\n",
    "    ]"
   ]
  },
  {
   "cell_type": "code",
   "execution_count": null,
   "metadata": {},
   "outputs": [],
   "source": [
    "def mirror_move(opponent: sente.Move, board_size: int = 19) -> sente.Move:\n",
    "    last = board_size - 1\n",
    "    opponent_x, opponent_y = opponent.get_x(), opponent.get_y()\n",
    "\n",
    "    # Did they play on the y = x diagonal?\n",
    "    # If so, mirror across the y = -x diagonal.\n",
    "    if opponent_x == last - opponent_y:\n",
    "        # Mirror across the y = -x diagonal\n",
    "        print(\"Mirroring across the y = -x diagonal\")\n",
    "        mirror_x = opponent_y\n",
    "        mirror_y = opponent_x\n",
    "\n",
    "    # Normal case: mirror across the y = x diagonal\n",
    "    else:\n",
    "        print(\"Mirroring across the y = x diagonal\")\n",
    "        mirror_x = last - opponent_x\n",
    "        mirror_y = last - opponent_y\n",
    "\n",
    "    black = opponent.get_stone() == sente.stone.BLACK\n",
    "    return sente.Move(\n",
    "        mirror_x,\n",
    "        mirror_y,\n",
    "        sente.stone.WHITE if black else sente.stone.BLACK\n",
    "    )\n",
    "\n",
    "\n",
    "mirror_move(sente.Move(1, 1, sente.stone.BLACK))"
   ]
  },
  {
   "cell_type": "code",
   "execution_count": null,
   "metadata": {},
   "outputs": [],
   "source": [
    "from collections import defaultdict\n",
    "import sente\n",
    "\n",
    "games = {}\n",
    "folders = (\n",
    "    \"edges-black\", \"edges-white\", \"pass-black\", \"pass-white\",\n",
    "    \"random-black\", \"random-white\"\n",
    ")\n",
    "for folder in folders:\n",
    "    games[folder] = load_games(Path.home() / folder)"
   ]
  },
  {
   "cell_type": "code",
   "execution_count": null,
   "metadata": {},
   "outputs": [],
   "source": [
    "import matplotlib.pyplot as plt\n",
    "import numpy as np\n",
    "\n",
    "fig, ax = plt.subplots(2, 3)\n",
    "fig.set_size_inches(18, 9)\n",
    "\n",
    "for i, strat in enumerate((\"Edges\", \"Pass\", \"Random\")):\n",
    "    black = compute_win_margins(games[f'{strat.lower()}-black'], black=True)\n",
    "    white = compute_win_margins(games[f'{strat.lower()}-white'] , black=False)\n",
    "\n",
    "    if strat == \"Edges\":\n",
    "        black_wins = sum(black > 0 for black in black)\n",
    "        white_wins = sum(white > 0 for white in white)\n",
    "        black_losses = sum(black < 0 for black in black)\n",
    "        white_losses = sum(white < 0 for white in white)\n",
    "        black_draws = sum(black == 0 for black in black)\n",
    "        white_draws = sum(white == 0 for white in white)\n",
    "\n",
    "        ax[0, i].text(100, 110, f\"Wins: {black_wins} ({100 * black_wins / 250:.1f}%) Losses: {black_losses} ({100 * black_losses / 250:.1f}%)\")\n",
    "        ax[0, i].text(100, 90, \"Worst score: \" + str(min(black)))\n",
    "    \n",
    "    ax[0, i].hist(black)\n",
    "    ax[1, i].hist(white)\n",
    "    ax[0, i].set_title(f'{strat} Strategy (Black Victim)')\n",
    "    ax[1, i].set_title(f'{strat} Strategy (White Victim)')\n",
    "\n",
    "fig.suptitle(\"KataGo Win Margin Against Baseline Adversaries\")"
   ]
  },
  {
   "cell_type": "code",
   "execution_count": null,
   "metadata": {},
   "outputs": [],
   "source": [
    "import matplotlib.pyplot as plt\n",
    "import numpy as np\n",
    "\n",
    "fig, ax = plt.subplots(1, 2)\n",
    "fig.set_size_inches(12, 6)\n",
    "\n",
    "black = [\n",
    "    game.score()[sente.stone.BLACK] - game.score()[sente.stone.WHITE]\n",
    "    for game in games[f'edges-black']\n",
    "]\n",
    "white = [\n",
    "    game.score()[sente.stone.WHITE] - game.score()[sente.stone.BLACK]\n",
    "    for game in games[f'edges-white']\n",
    "]\n",
    "black_length = [len(game.get_current_sequence()) for game in games[f'edges-black']]\n",
    "white_length = [len(game.get_current_sequence()) for game in games[f'edges-white']]\n",
    "losing_lengths = [l for l, s in zip(black_length, black) if s < 0]\n",
    "winning_lengths = [l for l, s in zip(black_length, black) if s > 0]\n",
    "\n",
    "ax[0].scatter(black_length, black)\n",
    "ax[1].scatter(white_length, white)\n",
    "ax[0].text(290, 250, f\"Max Len. of Losing Game: {max(losing_lengths)}\")\n",
    "ax[0].text(290, 225, f\"Median Len. of Losing Game: {np.median(losing_lengths):.0f}\")\n",
    "ax[0].text(290, 200, f\"Median Len. of Winning Game: {np.median(winning_lengths):.0f}\")\n",
    "ax[0].set_title('Edges Strategy (Black Victim)')\n",
    "ax[1].set_title('Edges Strategy (White Victim)')\n",
    "ax[0].set_xlabel('Length of Game')\n",
    "ax[1].set_xlabel('Length of Game')\n",
    "\n",
    "fig.suptitle(\"KataGo Adversarial Win Margin vs. Length of Game\")"
   ]
  },
  {
   "cell_type": "code",
   "execution_count": null,
   "metadata": {},
   "outputs": [],
   "source": [
    "losing_games = [\n",
    "    game\n",
    "    for game in games[f'edges-black']\n",
    "    if game.score()[sente.stone.BLACK] - game.score()[sente.stone.WHITE] < 0\n",
    "]\n",
    "worst_game = min(losing_games, key=lambda g: g.score()[sente.stone.BLACK] - g.score()[sente.stone.WHITE])"
   ]
  },
  {
   "cell_type": "code",
   "execution_count": null,
   "metadata": {},
   "outputs": [],
   "source": [
    "sente.sgf.dump(worst_game, str(Path.home() / \"losing-game.sgf\"))"
   ]
  },
  {
   "cell_type": "code",
   "execution_count": null,
   "metadata": {},
   "outputs": [],
   "source": [
    "from pathlib import Path\n",
    "import matplotlib.pyplot as plt\n",
    "\n",
    "games_1600_hard = load_games(Path.home() / \"edges-black-1600-hard\")"
   ]
  },
  {
   "cell_type": "code",
   "execution_count": null,
   "metadata": {},
   "outputs": [],
   "source": [
    "plt.hist(compute_win_margins(games_1600_hard))"
   ]
  },
  {
   "cell_type": "code",
   "execution_count": null,
   "metadata": {},
   "outputs": [],
   "source": [
    "games_1600 = load_games(Path.home() / \"edges-black-1600\")"
   ]
  },
  {
   "cell_type": "code",
   "execution_count": null,
   "metadata": {},
   "outputs": [],
   "source": [
    "plt.hist(compute_win_margins(games_1600))"
   ]
  },
  {
   "cell_type": "code",
   "execution_count": null,
   "metadata": {},
   "outputs": [],
   "source": [
    "games_hard = load_games(Path.home() / \"edges-black-512-hard\")"
   ]
  },
  {
   "cell_type": "code",
   "execution_count": null,
   "metadata": {},
   "outputs": [],
   "source": [
    "games_normal = load_games(Path.home() / \"edges-black\")"
   ]
  },
  {
   "cell_type": "code",
   "execution_count": null,
   "metadata": {},
   "outputs": [],
   "source": [
    "plt.hist(compute_win_margins(games_normal))"
   ]
  },
  {
   "cell_type": "code",
   "execution_count": null,
   "metadata": {},
   "outputs": [],
   "source": [
    "import matplotlib.pyplot as plt\n",
    "import numpy as np\n",
    "\n",
    "fig, ax = plt.subplots(2, 2)\n",
    "fig.set_size_inches(18, 9)\n",
    "\n",
    "configs = (\n",
    "    (\"Small Net, 512 Playouts\", games_normal),\n",
    "    (\"Small Net, 1600 Playouts\", games_1600),\n",
    "    (\"Large Net, 512 Playouts\", games_hard),\n",
    "    (\"Large Net, 1600 Playouts\", games_1600_hard)\n",
    ")\n",
    "for i, (title, g) in enumerate(configs):\n",
    "    margins = compute_win_margins(g, black=True)\n",
    "    ax[i // 2, i % 2].hist(margins)\n",
    "    ax[i // 2, i % 2].set_title(title)\n",
    "\n",
    "    wins = sum(s > 0 for s in margins)\n",
    "    losses = sum(s < 0 for s in margins)\n",
    "    draws = sum(s == 0 for s in margins)\n",
    "\n",
    "    if losses:\n",
    "        ax[i // 2, i % 2].text(100, 110, f\"Wins: {wins} ({100 * wins / 250:.1f}%) Losses: {losses} ({100 * losses / 250:.1f}%)\")\n",
    "        ax[i // 2, i % 2].text(100, 90, \"Worst score: \" + str(min(margins)))\n",
    "\n",
    "fig.suptitle(\"KataGo Win Margin Against Baseline Adversaries\")"
   ]
  },
  {
   "cell_type": "code",
   "execution_count": null,
   "metadata": {},
   "outputs": [],
   "source": [
    "games_normal"
   ]
  },
  {
   "cell_type": "code",
   "execution_count": null,
   "metadata": {},
   "outputs": [],
   "source": []
  }
 ],
 "metadata": {
  "kernelspec": {
   "display_name": "Python 3.9.13 ('base')",
   "language": "python",
   "name": "python3"
  },
  "language_info": {
   "codemirror_mode": {
    "name": "ipython",
    "version": 3
   },
   "file_extension": ".py",
   "mimetype": "text/x-python",
   "name": "python",
   "nbconvert_exporter": "python",
   "pygments_lexer": "ipython3",
   "version": "3.9.13"
  },
  "orig_nbformat": 4,
  "vscode": {
   "interpreter": {
    "hash": "439158cd89905785fcc749928062ade7bfccc3f087fab145e5671f895c635937"
   }
  }
 },
 "nbformat": 4,
 "nbformat_minor": 2
}
