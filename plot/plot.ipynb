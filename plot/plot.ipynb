{
 "cells": [
  {
   "cell_type": "code",
   "execution_count": 8,
   "id": "803eace5",
   "metadata": {},
   "outputs": [
    {
     "name": "stdout",
     "output_type": "stream",
     "text": [
      "game-0-Black.json  game-2-Black.json  game-4-Black.json\n",
      "game-1-Black.json  game-3-Black.json\n"
     ]
    }
   ],
   "source": [
    "!ls ../games_full/test/data_logs"
   ]
  },
  {
   "cell_type": "code",
   "execution_count": 9,
   "id": "91608e62",
   "metadata": {},
   "outputs": [],
   "source": [
    "exp_str = \"test\""
   ]
  },
  {
   "cell_type": "code",
   "execution_count": 10,
   "id": "67538dea",
   "metadata": {},
   "outputs": [
    {
     "data": {
      "text/plain": [
       "('/home/yawen/go_attack',\n",
       " '/home/yawen/go_attack/games_full',\n",
       " '/home/yawen/go_attack/games_full/test/data_logs')"
      ]
     },
     "execution_count": 10,
     "metadata": {},
     "output_type": "execute_result"
    }
   ],
   "source": [
    "import os \n",
    "from pathlib import Path\n",
    "import json\n",
    "root = str(Path(\"..\").resolve())\n",
    "games_dir = str(Path(root) / \"games_full\")\n",
    "data_dir = str(Path(games_dir) / exp_str / \"data_logs\")\n",
    "root, games_dir, data_dir"
   ]
  },
  {
   "cell_type": "code",
   "execution_count": 11,
   "id": "de7b62bf",
   "metadata": {},
   "outputs": [],
   "source": [
    "import json\n",
    "match_num_pla_json = \"game-0-Black.json\"\n",
    "with open(str(Path(data_dir) / match_num_pla_json), \"r\") as file:\n",
    "    all_dict = json.load(file)\n",
    "sorted_key_list = sorted(list(all_dict.keys()), key=lambda s: int(s.split('-')[-1]))"
   ]
  },
  {
   "cell_type": "code",
   "execution_count": 12,
   "id": "b1538916",
   "metadata": {},
   "outputs": [
    {
     "data": {
      "text/plain": [
       "'MoveNum-0'"
      ]
     },
     "execution_count": 12,
     "metadata": {},
     "output_type": "execute_result"
    }
   ],
   "source": [
    "import matplotlib.pyplot as plt\n",
    "# x, key_list = sorted_key_list\n",
    "sorted_key_list[0]"
   ]
  },
  {
   "cell_type": "code",
   "execution_count": 13,
   "id": "aac88afc",
   "metadata": {},
   "outputs": [
    {
     "data": {
      "text/plain": [
       "dict_keys(['attackValue', 'effectiveWinValue', 'minimaxValue', 'moveInfos', 'numChildren', 'perspective', 'prevMove', 'prevMoveIdx', 'pv', 'pvVisits', 'scoreLead', 'scoreStdev', 'utility', 'visits', 'weightSum', 'winValueAvg(black)', 'winValueAvg(white)', 'winValueSum(white)', 'winrate'])"
      ]
     },
     "execution_count": 13,
     "metadata": {},
     "output_type": "execute_result"
    }
   ],
   "source": [
    "# Example \n",
    "all_dict['MoveNum-0']['Root'].keys()"
   ]
  },
  {
   "cell_type": "code",
   "execution_count": null,
   "id": "663612ee-67d5-45ff-93cd-39a45bd3ce12",
   "metadata": {},
   "outputs": [],
   "source": []
  }
 ],
 "metadata": {
  "kernelspec": {
   "display_name": "Python 3",
   "language": "python",
   "name": "python3"
  },
  "language_info": {
   "codemirror_mode": {
    "name": "ipython",
    "version": 3
   },
   "file_extension": ".py",
   "mimetype": "text/x-python",
   "name": "python",
   "nbconvert_exporter": "python",
   "pygments_lexer": "ipython3",
   "version": "3.9.4"
  }
 },
 "nbformat": 4,
 "nbformat_minor": 5
}
